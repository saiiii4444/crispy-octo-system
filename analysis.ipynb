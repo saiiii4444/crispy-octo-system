{
 "cells": [
  {
   "cell_type": "markdown",
   "id": "f360c013",
   "metadata": {},
   "source": [
    "# Employee Onboarding Analysis\n",
    "\n",
    "This notebook explores the onboarding sample data.  It calculates basic metrics such as the number of employees in each onboarding stage and the average time from start to completion."
   ]
  },
  {
   "cell_type": "code",
   "execution_count": null,
   "id": "4b5c8763",
   "metadata": {},
   "outputs": [],
   "source": [
    "import pandas as pd\n",
    "from datetime import datetime\n",
    "\n",
    "# Load data\n",
    "df = pd.read_csv('employee_onboarding.csv')\n",
    "# Convert dates to datetime\n",
    "df['StartDate'] = pd.to_datetime(df['StartDate'])\n",
    "df['TrainingCompletionDate'] = pd.to_datetime(df['TrainingCompletionDate'], errors='coerce')\n",
    "df.head()"
   ]
  },
  {
   "cell_type": "markdown",
   "id": "a1d87b17",
   "metadata": {},
   "source": [
    "## Employees by status"
   ]
  },
  {
   "cell_type": "code",
   "execution_count": null,
   "id": "f8f03971",
   "metadata": {},
   "outputs": [],
   "source": [
    "status_counts = df['Status'].value_counts()\n",
    "status_counts"
   ]
  },
  {
   "cell_type": "markdown",
   "id": "5b1cfe0f",
   "metadata": {},
   "source": [
    "## Average days to completion"
   ]
  },
  {
   "cell_type": "code",
   "execution_count": null,
   "id": "1b7661b6",
   "metadata": {},
   "outputs": [],
   "source": [
    "# Calculate completion time only for completed employees\n",
    "completed = df[df['Status'] == 'Completed'].copy()\n",
    "completed['DaysToComplete'] = (completed['TrainingCompletionDate'] - completed['StartDate']).dt.days\n",
    "completed['DaysToComplete'].mean()"
   ]
  }
 ],
 "metadata": {},
 "nbformat": 4,
 "nbformat_minor": 5
}
